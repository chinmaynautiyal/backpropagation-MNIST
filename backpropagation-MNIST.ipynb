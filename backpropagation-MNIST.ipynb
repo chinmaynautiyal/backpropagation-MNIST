{
 "cells": [
  {
   "cell_type": "code",
   "execution_count": null,
   "metadata": {},
   "outputs": [],
   "source": [
    "\n",
    "#import cells\n",
    "import numpy as np\n",
    "import math\n",
    "import matplotlib.pyplot as plt\n",
    "import copy\n",
    "from numpy.linalg import norm\n",
    "\n"
   ]
  },
  {
   "cell_type": "code",
   "execution_count": null,
   "metadata": {},
   "outputs": [],
   "source": [
    "#importing training data and test data\n",
    "\n",
    "train_file = 'mnist/train-images-idx3-ubyte'\n",
    "train_label_file = 'mnist/train-labels-idx1-ubyte'\n",
    "test_file = 'mnist/t10k-images-idx3-ubyte'\n",
    "test_label_file = 'mnist/t10k-labels-idx1-ubyte'\n",
    "\n",
    "train_arr = idx2numpy.convert_from_file(train_file)\n",
    "train_label_arr = idx2numpy.convert_from_file(train_label_file)\n",
    "\n",
    "test_arr = idx2numpy.convert_from_file(test_file) \n",
    "test_label_arr = idx2numpy.convert_from_file(test_label_file)\n"
   ]
  },
  {
   "cell_type": "code",
   "execution_count": null,
   "metadata": {},
   "outputs": [],
   "source": [
    "#forward pass\n",
    "#function to calculate value of given neural network\n",
    "\n",
    "#returns intermediate_activation, intermediate_output, final_output\n",
    "def forward_pass(w_L1, w_L2, x):\n",
    "    X_input = np.ones(2)\n",
    "    \n",
    "    #adding bias term in input\n",
    "    X_input[1] = x\n",
    "    X_input = np.reshape(X_input, (2,1))\n",
    "    intermediate_activation = np.matmul(w_L1, X_input)\n",
    "    \n",
    "    \n",
    "    \n",
    "    #apply the hyperbolic tangent function\n",
    "    intermediate_output = np.tanh(intermediate_activation)\n",
    "    #print('intermediate_output shape', intermediate_output.shape)\n",
    "    #intermediate output goes to second layer\n",
    "    \n",
    "    #adding bias in intermediate output\n",
    "    intermediate_output_bias = np.ones([25,1])\n",
    "    k = 1\n",
    "    for j in intermediate_output:\n",
    "        intermediate_output_bias[k][0] = j\n",
    "        k = k + 1\n",
    "    \n",
    "    \n",
    "    #print('dimensions of w_l2', w_L2.shape)\n",
    "    #print('dimensions of intermediate_output_bias', intermediate_output_bias.shape )\n",
    "    final_out = np.matmul(w_L2, intermediate_output_bias)\n",
    "    return intermediate_activation, intermediate_output_bias, final_out\n",
    "    "
   ]
  },
  {
   "cell_type": "code",
   "execution_count": null,
   "metadata": {},
   "outputs": [],
   "source": [
    "#identical to forward pass; only returns final_out\n",
    "\n",
    "def NNfval(w_L1, w_L2, x):\n",
    "    X_input = np.ones(2)\n",
    "    \n",
    "    #adding bias term in input\n",
    "    X_input[1] = x\n",
    "    X_input = np.reshape(X_input, (2,1))\n",
    "    print('x_input shape is :', X_input.shape)\n",
    "    print('x_input ',X_input )\n",
    "    intermediate_activation = np.matmul(w_L1, X_input)\n",
    "    \n",
    "    \n",
    "    #apply the hyperbolic tangent function\n",
    "    intermediate_output = np.tanh(intermediate_activation)\n",
    "    #print('intermediate_output shape', intermediate_output.shape)\n",
    "    #intermediate output goes to second layer\n",
    "    \n",
    "    #adding bias in intermediate output\n",
    "    intermediate_output_bias = np.ones([25,1])\n",
    "    k = 1\n",
    "    for j in intermediate_output:\n",
    "        intermediate_output_bias[k][0] = j\n",
    "        k = k + 1\n",
    "    \n",
    "    \n",
    "    #print('dimensions of w_l2', w_L2.shape)\n",
    "    #print('dimensions of intermediate_output_bias', intermediate_output_bias.shape )\n",
    "    final_out = np.matmul(w_L2, intermediate_output_bias)\n",
    "    return final_out"
   ]
  },
  {
   "cell_type": "code",
   "execution_count": null,
   "metadata": {},
   "outputs": [],
   "source": [
    "#Energy calculation function\n",
    "# params: weight_layer1, weights_layer2\n",
    "\n",
    "#calls forward pass and finds the output of the neural network with given weights\n",
    "\n",
    "def energy(weights_L1, weights_L2):\n",
    "    sum = 0.0\n",
    "    for i in range(n): \n",
    "        diff_term = d[i] - NNfval(weights_L1, weights_L2, x[i])[0][0]\n",
    "        #print (diff_term)\n",
    "        #print(type(diff_term))\n",
    "        #print('Shape of diff term',diff_term.shape)\n",
    "        #print(diff_term)\n",
    "        intermediate_sum = math.pow(diff_term,2)\n",
    "        sum = sum + intermediate_sum\n",
    "    return sum/n"
   ]
  },
  {
   "cell_type": "code",
   "execution_count": null,
   "metadata": {},
   "outputs": [],
   "source": [
    "#other energy function\n",
    "def f(w1,w2,x,y):\n",
    "    #print(\"w0:\",w[0])\n",
    "    #print(w2)\n",
    "    b=w2[:,0]\n",
    "    w2  = np.delete(w2, 0,1)\n",
    "    #print(w2.shape)\n",
    "    #w2 = np.reshape(w2,(24,1))\n",
    "    #print(w2)\n",
    "    funcn = 0\n",
    "    v= np.zeros([24,300])\n",
    "    z=np.zeros([300,1])\n",
    "    for j in range(0,24):\n",
    "        #print((math.pow((y[ti]-(w[0]+(w[1]*x[i]))),2)))\n",
    "        for i in range(0,300):\n",
    "            v[j][i] = math.tanh(w1[j][1]*x[i]+w1[j][0])\n",
    "    #print(\"v=\",v)\n",
    "    for i in range(0,300):\n",
    "        #print(\"w2=\",w2[:,j])\n",
    "        #print(np.dot(w2,v[:,i])+b)\n",
    "        z[i]=(np.dot(w2,v[:,i])+b)\n",
    "        funcn = funcn+(math.pow((y[i]-z[i]),2))\n",
    "    #print(\"z=\",z)\n",
    "    #print(funcn)\n",
    "    return funcn/300"
   ]
  },
  {
   "cell_type": "code",
   "execution_count": null,
   "metadata": {},
   "outputs": [],
   "source": [
    "#normalizing inputs\n",
    "for i in range(0,60000):\n",
    "    avg = train_arr[i].mean()\n",
    "    std = train_arr[i].std()\n",
    "    train_arr[i] = (train_arr[i]-avg)/std\n",
    "for i in range(0,10000):\n",
    "    avg = test_arr[i].mean()\n",
    "    std = test_arr[i].std()\n",
    "    test_arr[i] = (test_img[i]-avg)/std"
   ]
  },
  {
   "cell_type": "code",
   "execution_count": null,
   "metadata": {},
   "outputs": [],
   "source": [
    "#useful functions\n",
    "def sigmoid(a):\n",
    "    return (1/(1+np.exp(-a)))\n",
    "\n",
    "def onehotencoder(s):\n",
    "    l = np.zeros([10,1])\n",
    "    l[np.argmax(s)] = 1\n",
    "    l = l.ravel()\n",
    "    return l"
   ]
  },
  {
   "cell_type": "code",
   "execution_count": null,
   "metadata": {},
   "outputs": [],
   "source": [
    "d = np.zeros([60000,10])\n",
    "for i in range(0,60000):\n",
    "    d[i][train_lab[i]] = 1"
   ]
  },
  {
   "cell_type": "code",
   "execution_count": null,
   "metadata": {},
   "outputs": [],
   "source": [
    "def f(w,u,b,bb,x,d):\n",
    "    func = 0\n",
    "    for i in range(0,60000):\n",
    "        v,y,q,z = feedfwd(w[:],u[:],b[:],bb[:],x[i][:])\n",
    "        z = onehotenc(z)\n",
    "        #print(\"zf=\",z)\n",
    "        func = func+np.sum(np.square(d[i]-z))\n",
    "    return func/60000"
   ]
  },
  {
   "cell_type": "code",
   "execution_count": null,
   "metadata": {},
   "outputs": [],
   "source": [
    "def gdBackprop(w1i,w2i,b1i,b2i,eta):\n",
    "    eps = math.pow(10,-4)\n",
    "    epoch = 0\n",
    "    w = w1i\n",
    "    u = w2i\n",
    "    b = b1i\n",
    "    bb = b2i\n",
    "    w_old = w-10*5\n",
    "    u_old = u-10*5\n",
    "    b_old = b-50\n",
    "    bb_old = bb-50\n",
    "    fn = []\n",
    "    fn.append(f(w[:],u[:],b[:],bb[:],train_img[:],d[:]))\n",
    "    print(fn)\n",
    "    while(norm(f(w_old[:],u_old[:],b_old[:],bb_old[:],train_img[:],d[:])-f(w[:],u[:],b[:],bb[:],train_img[:],d[:]))>eps):\n",
    "        print(\"epoc=\",epoch)\n",
    "        epoch = epoch+1\n",
    "        w_old = w\n",
    "        u_old = u\n",
    "        b_old = b\n",
    "        bb_old = bb\n",
    "        for i in range(0,60000):\n",
    "            print(\"i=\",i)\n",
    "            v,y,q,z = feedfwd(w[:],u[:],b[:],bb[:],train_img[i][:])\n",
    "            dfi1dv = y*(1-y)\n",
    "            dfi2dq = q*(1-q)\n",
    "            z = onehotenc(z)\n",
    "            g = np.reshape(np.subtract(d[i],z),(1,10))\n",
    "            #print(\"g=\",g)\n",
    "            #g = g.ravel()\n",
    "            #print(\"g=\",g)\n",
    "            dfi2dq=dfi2dq.ravel()\n",
    "            #print(\"phi2=\",dfi2dq)\n",
    "            dEduk0 = -g*dfi2dq\n",
    "            #print(\"dedb2=\",dEduk0.shape)\n",
    "            dEdukj = -y*(-dEduk0)\n",
    "            #print(\"dedu=\",dEdukj.shape)\n",
    "            dEdwj0 = -((np.sum(-dEduk0*u))*dfi1dv)\n",
    "            #print(\"dedb=\",dEdwj0.shape)\n",
    "            dEdwji = -(-dEdwj0*train_img[i])\n",
    "            #print(\"dedw=\",dEdwji.shape)\n",
    "            dEdwji=np.reshape(dEdwji,(784,400))\n",
    "            dEduk0=np.reshape(dEduk0,(10,1))\n",
    "            w = w - (eta*dEdwji)\n",
    "            u = u - (eta*dEdukj)\n",
    "            b = b - (eta*dEdwj0)\n",
    "            bb = bb - (eta*dEduk0)\n",
    "        func = f(w[:],u[:],b[:],bb[:],train_img[:],d[:])\n",
    "        fn.append(func)\n",
    "        if(fn[epoch-1]<fn[epoch]):\n",
    "            eta = (0.9*eta)\n",
    "            w,u,b,bb,fn,epoch=backprop(w_old,u_old,b_old,bb_old,eta)\n",
    "            return w,u,b,bb,fn,epoch \n",
    "    return w,u,b,bb,fn,epoch "
   ]
  },
  {
   "cell_type": "code",
   "execution_count": null,
   "metadata": {},
   "outputs": [],
   "source": [
    "#driver code\n",
    "eta  = math.pow(10,-3)\n",
    "w1i = random.normal(0,1,size=(784,400))\n",
    "#w1i= np.append(w1i,g1,axis=1)\n",
    "#w2i = np.ones([1,1])\n",
    "w2i = random.normal(0,1,(400,10))\n",
    "b1i = random.normal(0,1,(400,1))\n",
    "b2i = random.normal(0,1,(10,1))\n",
    "#w2i= np.append(w2i,g2,axis=1)\n",
    "print(\"ini w1=\",w1i)\n",
    "print(\"ini w2=\",w2i)\n",
    "print(\"ini b=\",b1i)\n",
    "print(\"ini b2=\",b2i)\n",
    "fw1,fw2,fb1,fb2,energy,ep = backprop(w1i[:],w2i[:],b1i[:],b2i[:],eta)\n",
    "print(\"Energy=\",energy)\n",
    "print(\"final w1=\",fw1)\n",
    "print(\"final w2=\",fw2)\n",
    "print(\"final b1=\",fb1)\n",
    "print(\"final b2=\",fb2)\n",
    "x3=[]\n",
    "for j in range(0,ep+1):\n",
    "    x3.append(j)\n",
    "    \n",
    "plt.plot(x3, energy) \n",
    "\n",
    "plt.xlabel('Iterations') \n",
    "plt.ylabel('Energy') \n",
    "  \n",
    "plt.title('Energy changes') \n",
    "plt.show() "
   ]
  },
  {
   "cell_type": "code",
   "execution_count": null,
   "metadata": {},
   "outputs": [],
   "source": [
    "final_w_L1"
   ]
  },
  {
   "cell_type": "code",
   "execution_count": null,
   "metadata": {},
   "outputs": [],
   "source": [
    "final_w_L2"
   ]
  },
  {
   "cell_type": "code",
   "execution_count": null,
   "metadata": {},
   "outputs": [],
   "source": [
    "myfunction = np.zeros(n)\n",
    "for i in range(n):\n",
    "    myfunction[i] = NNfval(final_w_L1, final_w_L2, x[i])"
   ]
  },
  {
   "cell_type": "code",
   "execution_count": null,
   "metadata": {},
   "outputs": [],
   "source": [
    "drawAll(x, myfunction, 'MyFunction')"
   ]
  },
  {
   "cell_type": "code",
   "execution_count": null,
   "metadata": {},
   "outputs": [],
   "source": [
    "#test forward pass \n",
    "\n",
    "test_wl1 = np.ones((24,2))\n",
    "test_wl2 = np.ones((1,25))\n",
    "test_i = 0.5\n",
    "test_output = NNfval(test_wl1, test_wl2, test_i)\n",
    "print(test_output)\n",
    "print(math.tanh(1.5)*24 + 1)"
   ]
  },
  {
   "cell_type": "code",
   "execution_count": null,
   "metadata": {},
   "outputs": [],
   "source": [
    "print(x[0])\n",
    "myfunction[0]"
   ]
  },
  {
   "cell_type": "code",
   "execution_count": null,
   "metadata": {},
   "outputs": [],
   "source": []
  }
 ],
 "metadata": {
  "kernelspec": {
   "display_name": "Python 3",
   "language": "python",
   "name": "python3"
  },
  "language_info": {
   "codemirror_mode": {
    "name": "ipython",
    "version": 3
   },
   "file_extension": ".py",
   "mimetype": "text/x-python",
   "name": "python",
   "nbconvert_exporter": "python",
   "pygments_lexer": "ipython3",
   "version": "3.7.3"
  }
 },
 "nbformat": 4,
 "nbformat_minor": 2
}
